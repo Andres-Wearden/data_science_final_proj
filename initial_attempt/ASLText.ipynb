{
 "cells": [
  {
   "cell_type": "markdown",
   "metadata": {},
   "source": [
    "ASL to Text generator"
   ]
  },
  {
   "cell_type": "markdown",
   "metadata": {},
   "source": [
    "This project captures live frames from a webcam using openCV to translate ASL signs into English text."
   ]
  },
  {
   "cell_type": "code",
   "execution_count": 4,
   "metadata": {},
   "outputs": [
    {
     "name": "stdout",
     "output_type": "stream",
     "text": [
      "c:\\Users\\anesw\\OneDrive\\Desktop\\spring_2025\\data_science_labs\\data_science_lab_final_project\\final_project_460j\n"
     ]
    },
    {
     "ename": "FileNotFoundError",
     "evalue": "[WinError 3] The system cannot find the path specified: 'unprocessed_test_data\\\\A'",
     "output_type": "error",
     "traceback": [
      "\u001b[1;31m---------------------------------------------------------------------------\u001b[0m",
      "\u001b[1;31mFileNotFoundError\u001b[0m                         Traceback (most recent call last)",
      "Cell \u001b[1;32mIn[4], line 21\u001b[0m\n\u001b[0;32m     19\u001b[0m input_folder \u001b[38;5;241m=\u001b[39m os\u001b[38;5;241m.\u001b[39mpath\u001b[38;5;241m.\u001b[39mjoin(input_root, \u001b[38;5;28mcls\u001b[39m)\n\u001b[0;32m     20\u001b[0m output_folder \u001b[38;5;241m=\u001b[39m os\u001b[38;5;241m.\u001b[39mpath\u001b[38;5;241m.\u001b[39mjoin(output_root, \u001b[38;5;28mcls\u001b[39m)\n\u001b[1;32m---> 21\u001b[0m \u001b[38;5;28;01mfor\u001b[39;00m img_name \u001b[38;5;129;01min\u001b[39;00m \u001b[43mos\u001b[49m\u001b[38;5;241;43m.\u001b[39;49m\u001b[43mlistdir\u001b[49m\u001b[43m(\u001b[49m\u001b[43minput_folder\u001b[49m\u001b[43m)\u001b[49m:\n\u001b[0;32m     22\u001b[0m     img_name \u001b[38;5;241m=\u001b[39m img_name \u001b[38;5;241m+\u001b[39m \u001b[38;5;124m'\u001b[39m\u001b[38;5;124m_test\u001b[39m\u001b[38;5;124m'\u001b[39m\n\u001b[0;32m     23\u001b[0m     img_path \u001b[38;5;241m=\u001b[39m os\u001b[38;5;241m.\u001b[39mpath\u001b[38;5;241m.\u001b[39mjoin(input_folder, img_name)\n",
      "\u001b[1;31mFileNotFoundError\u001b[0m: [WinError 3] The system cannot find the path specified: 'unprocessed_test_data\\\\A'"
     ]
    }
   ],
   "source": [
    "import os\n",
    "import cv2\n",
    "import numpy as np\n",
    "\n",
    "# Input and output directories\n",
    "input_root = 'data'    # Folder with original images (A-Z, Space, Nothing, Del)\n",
    "output_root = 'train'  # Folder to save processed images\n",
    "\n",
    "# List of class names (A-Z, Space, Nothing, Del)\n",
    "classes = [chr(i) for i in range(ord('A'), ord('Z')+1)] + ['Space', 'Nothing', 'Del']\n",
    "\n",
    "# Ensure output directories exist\n",
    "for cls in classes:\n",
    "    os.makedirs(os.path.join(output_root, cls), exist_ok=True)\n",
    "\n",
    "print(os.getcwd())\n",
    "# Process images\n",
    "for cls in classes:\n",
    "    input_folder = os.path.join(input_root, cls)\n",
    "    output_folder = os.path.join(output_root, cls)\n",
    "    for img_name in os.listdir(input_folder):\n",
    "        img_path = os.path.join(input_folder, img_name)\n",
    "        img = cv2.imread(img_path)\n",
    "        if img is None:\n",
    "            print(f\"Warning: Could not read {img_path}. Skipping.\")\n",
    "            continue  # Skip unreadable files\n",
    "\n",
    "        # Convert to grayscale\n",
    "        gray = cv2.cvtColor(img, cv2.COLOR_BGR2GRAY)\n",
    "\n",
    "        # Enhance local contrast using CLAHE\n",
    "        clahe = cv2.createCLAHE(clipLimit=2.0, tileGridSize=(8,8))\n",
    "        equalized = clahe.apply(gray)\n",
    "\n",
    "        # Apply Gaussian blur to reduce noise\n",
    "        blurred = cv2.GaussianBlur(equalized, (5, 5), 0)\n",
    "\n",
    "        # Adaptive thresholding for illumination invariance\n",
    "        binary = cv2.adaptiveThreshold(\n",
    "            blurred, 255, \n",
    "            cv2.ADAPTIVE_THRESH_GAUSSIAN_C, \n",
    "            cv2.THRESH_BINARY_INV,  # Use THRESH_BINARY or THRESH_BINARY_INV as needed\n",
    "            11, 2\n",
    "        )\n",
    "\n",
    "        # Save the binary image at the original size and location\n",
    "        out_path = os.path.join(output_folder, img_name)\n",
    "        cv2.imwrite(out_path, binary)\n",
    "\n",
    "print(\"Preprocessing complete! All images saved in the 'train/' folder.\")\n"
   ]
  }
 ],
 "metadata": {
  "kernelspec": {
   "display_name": "py310",
   "language": "python",
   "name": "python3"
  },
  "language_info": {
   "codemirror_mode": {
    "name": "ipython",
    "version": 3
   },
   "file_extension": ".py",
   "mimetype": "text/x-python",
   "name": "python",
   "nbconvert_exporter": "python",
   "pygments_lexer": "ipython3",
   "version": "3.10.8"
  }
 },
 "nbformat": 4,
 "nbformat_minor": 2
}
